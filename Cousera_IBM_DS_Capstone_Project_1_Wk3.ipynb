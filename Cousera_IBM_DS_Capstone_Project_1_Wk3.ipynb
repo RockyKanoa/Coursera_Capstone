{
  "nbformat": 4,
  "nbformat_minor": 0,
  "metadata": {
    "colab": {
      "name": "Cousera IBM DS Capstone Project_1_Wk3.ipynb",
      "provenance": [],
      "collapsed_sections": [],
      "authorship_tag": "ABX9TyOsK1Yh9jGb+vkJy6VIawQD",
      "include_colab_link": true
    },
    "kernelspec": {
      "name": "python3",
      "display_name": "Python 3"
    }
  },
  "cells": [
    {
      "cell_type": "markdown",
      "metadata": {
        "id": "view-in-github",
        "colab_type": "text"
      },
      "source": [
        "<a href=\"https://colab.research.google.com/github/RockyKanoa/Coursera_Capstone/blob/master/Cousera_IBM_DS_Capstone_Project_1_Wk3.ipynb\" target=\"_parent\"><img src=\"https://colab.research.google.com/assets/colab-badge.svg\" alt=\"Open In Colab\"/></a>"
      ]
    },
    {
      "cell_type": "markdown",
      "metadata": {
        "id": "OBqutxmRg9-H"
      },
      "source": [
        "#IBM Data Science Professional Certificate Capstone\n",
        "\n",
        "##Okoronkwo Kanno\n",
        "\n",
        "##September 2020\n"
      ]
    },
    {
      "cell_type": "markdown",
      "metadata": {
        "id": "0kBJe5Cpb33Q"
      },
      "source": [
        "This notebook contains the Capstone Project for the course Data Science Professional Certificate on Coursera."
      ]
    },
    {
      "cell_type": "code",
      "metadata": {
        "id": "7eAUtJsUYQV0"
      },
      "source": [
        "import requests # library to handle requests\n",
        "import pandas as pd # library for data analysis\n",
        "import numpy as np # library to handle data in a vectorized manner\n",
        "import random # library for random number generation\n",
        "\n",
        "#!conda install -c conda-forge geopy --yes \n",
        "from geopy.geocoders import Nominatim # module to convert an address into latitude and longitude values\n",
        "\n",
        "# libraries for displaying images\n",
        "from IPython.display import Image \n",
        "from IPython.core.display import HTML\n",
        "from IPython.display import display_html\n",
        "    \n",
        "# tranforming json file into a pandas dataframe library\n",
        "from pandas.io.json import json_normalize\n",
        "\n",
        "import folium # plotting library\n",
        "from bs4 import BeautifulSoup\n",
        "from sklearn.cluster import KMeans\n",
        "import matplotlib.cm as cm\n",
        "import matplotlib.colors as colors\n"
      ],
      "execution_count": 3,
      "outputs": []
    },
    {
      "cell_type": "code",
      "metadata": {
        "id": "Qw7vHOjRcIyi",
        "colab": {
          "base_uri": "https://localhost:8080/",
          "height": 36
        },
        "outputId": "aa729ec0-05cb-40a9-e648-f77d3141b99e"
      },
      "source": [
        "print('Hello Capstone Project Course!')"
      ],
      "execution_count": null,
      "outputs": [
        {
          "output_type": "stream",
          "text": [
            "Hello Capstone Project Course!\n"
          ],
          "name": "stdout"
        }
      ]
    }
  ]
}