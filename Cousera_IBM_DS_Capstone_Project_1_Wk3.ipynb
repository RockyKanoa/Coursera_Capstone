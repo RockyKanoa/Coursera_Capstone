{
  "nbformat": 4,
  "nbformat_minor": 0,
  "metadata": {
    "colab": {
      "name": "Cousera IBM DS Capstone Project_1_Wk3.ipynb",
      "provenance": [],
      "collapsed_sections": [],
      "authorship_tag": "ABX9TyMHcR8izClMP1nkgQ2ANJ81",
      "include_colab_link": true
    },
    "kernelspec": {
      "name": "python3",
      "display_name": "Python 3"
    }
  },
  "cells": [
    {
      "cell_type": "markdown",
      "metadata": {
        "id": "view-in-github",
        "colab_type": "text"
      },
      "source": [
        "<a href=\"https://colab.research.google.com/github/RockyKanoa/Coursera_Capstone/blob/master/Cousera_IBM_DS_Capstone_Project_1_Wk3.ipynb\" target=\"_parent\"><img src=\"https://colab.research.google.com/assets/colab-badge.svg\" alt=\"Open In Colab\"/></a>"
      ]
    },
    {
      "cell_type": "markdown",
      "metadata": {
        "id": "OBqutxmRg9-H"
      },
      "source": [
        "#IBM Data Science Professional Certificate Capstone\n",
        "\n",
        "##Okoronkwo Kanno\n",
        "\n",
        "##September 2020\n"
      ]
    },
    {
      "cell_type": "markdown",
      "metadata": {
        "id": "0kBJe5Cpb33Q"
      },
      "source": [
        "This notebook contains the Capstone Project for the course Data Science Professional Certificate on Coursera."
      ]
    },
    {
      "cell_type": "code",
      "metadata": {
        "id": "7eAUtJsUYQV0"
      },
      "source": [
        "#convention for importing numpy and pandas\n",
        "import numpy as np\n",
        "import pandas as pd"
      ],
      "execution_count": null,
      "outputs": []
    },
    {
      "cell_type": "code",
      "metadata": {
        "id": "Qw7vHOjRcIyi",
        "colab": {
          "base_uri": "https://localhost:8080/",
          "height": 36
        },
        "outputId": "aa729ec0-05cb-40a9-e648-f77d3141b99e"
      },
      "source": [
        "print('Hello Capstone Project Course!')"
      ],
      "execution_count": null,
      "outputs": [
        {
          "output_type": "stream",
          "text": [
            "Hello Capstone Project Course!\n"
          ],
          "name": "stdout"
        }
      ]
    }
  ]
}